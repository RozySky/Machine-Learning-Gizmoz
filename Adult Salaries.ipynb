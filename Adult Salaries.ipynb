{
 "cells": [
  {
   "cell_type": "markdown",
   "metadata": {},
   "source": [
    "# Smoke Haze Plan Biggy"
   ]
  },
  {
   "cell_type": "markdown",
   "metadata": {},
   "source": [
    "![Smoke Haze Plan Biggy](https://66.media.tumblr.com/0cd25b386bee619b4fa4d52f2f67addd/tumblr_p3ih1912ZU1wks6iyo2_r1_500.gifv)"
   ]
  },
  {
   "cell_type": "code",
   "execution_count": 1,
   "metadata": {},
   "outputs": [],
   "source": [
    "import pandas as pd\n",
    "import numpy as np\n",
    "import matplotlib.pyplot as plt\n",
    "import seaborn as sns"
   ]
  },
  {
   "cell_type": "code",
   "execution_count": 2,
   "metadata": {},
   "outputs": [],
   "source": [
    "dataset = pd.read_csv('data/adult.csv')"
   ]
  },
  {
   "cell_type": "code",
   "execution_count": 3,
   "metadata": {},
   "outputs": [
    {
     "data": {
      "text/html": [
       "<div>\n",
       "<style scoped>\n",
       "    .dataframe tbody tr th:only-of-type {\n",
       "        vertical-align: middle;\n",
       "    }\n",
       "\n",
       "    .dataframe tbody tr th {\n",
       "        vertical-align: top;\n",
       "    }\n",
       "\n",
       "    .dataframe thead th {\n",
       "        text-align: right;\n",
       "    }\n",
       "</style>\n",
       "<table border=\"1\" class=\"dataframe\">\n",
       "  <thead>\n",
       "    <tr style=\"text-align: right;\">\n",
       "      <th></th>\n",
       "      <th>age</th>\n",
       "      <th>workclass</th>\n",
       "      <th>fnlwgt</th>\n",
       "      <th>education</th>\n",
       "      <th>education.num</th>\n",
       "      <th>marital.status</th>\n",
       "      <th>occupation</th>\n",
       "      <th>relationship</th>\n",
       "      <th>race</th>\n",
       "      <th>sex</th>\n",
       "      <th>capital.gain</th>\n",
       "      <th>capital.loss</th>\n",
       "      <th>hours.per.week</th>\n",
       "      <th>native.country</th>\n",
       "      <th>income</th>\n",
       "    </tr>\n",
       "  </thead>\n",
       "  <tbody>\n",
       "    <tr>\n",
       "      <th>0</th>\n",
       "      <td>90</td>\n",
       "      <td>?</td>\n",
       "      <td>77053</td>\n",
       "      <td>HS-grad</td>\n",
       "      <td>9</td>\n",
       "      <td>Widowed</td>\n",
       "      <td>?</td>\n",
       "      <td>Not-in-family</td>\n",
       "      <td>White</td>\n",
       "      <td>Female</td>\n",
       "      <td>0</td>\n",
       "      <td>4356</td>\n",
       "      <td>40</td>\n",
       "      <td>United-States</td>\n",
       "      <td>&lt;=50K</td>\n",
       "    </tr>\n",
       "    <tr>\n",
       "      <th>1</th>\n",
       "      <td>82</td>\n",
       "      <td>Private</td>\n",
       "      <td>132870</td>\n",
       "      <td>HS-grad</td>\n",
       "      <td>9</td>\n",
       "      <td>Widowed</td>\n",
       "      <td>Exec-managerial</td>\n",
       "      <td>Not-in-family</td>\n",
       "      <td>White</td>\n",
       "      <td>Female</td>\n",
       "      <td>0</td>\n",
       "      <td>4356</td>\n",
       "      <td>18</td>\n",
       "      <td>United-States</td>\n",
       "      <td>&lt;=50K</td>\n",
       "    </tr>\n",
       "    <tr>\n",
       "      <th>2</th>\n",
       "      <td>66</td>\n",
       "      <td>?</td>\n",
       "      <td>186061</td>\n",
       "      <td>Some-college</td>\n",
       "      <td>10</td>\n",
       "      <td>Widowed</td>\n",
       "      <td>?</td>\n",
       "      <td>Unmarried</td>\n",
       "      <td>Black</td>\n",
       "      <td>Female</td>\n",
       "      <td>0</td>\n",
       "      <td>4356</td>\n",
       "      <td>40</td>\n",
       "      <td>United-States</td>\n",
       "      <td>&lt;=50K</td>\n",
       "    </tr>\n",
       "    <tr>\n",
       "      <th>3</th>\n",
       "      <td>54</td>\n",
       "      <td>Private</td>\n",
       "      <td>140359</td>\n",
       "      <td>7th-8th</td>\n",
       "      <td>4</td>\n",
       "      <td>Divorced</td>\n",
       "      <td>Machine-op-inspct</td>\n",
       "      <td>Unmarried</td>\n",
       "      <td>White</td>\n",
       "      <td>Female</td>\n",
       "      <td>0</td>\n",
       "      <td>3900</td>\n",
       "      <td>40</td>\n",
       "      <td>United-States</td>\n",
       "      <td>&lt;=50K</td>\n",
       "    </tr>\n",
       "    <tr>\n",
       "      <th>4</th>\n",
       "      <td>41</td>\n",
       "      <td>Private</td>\n",
       "      <td>264663</td>\n",
       "      <td>Some-college</td>\n",
       "      <td>10</td>\n",
       "      <td>Separated</td>\n",
       "      <td>Prof-specialty</td>\n",
       "      <td>Own-child</td>\n",
       "      <td>White</td>\n",
       "      <td>Female</td>\n",
       "      <td>0</td>\n",
       "      <td>3900</td>\n",
       "      <td>40</td>\n",
       "      <td>United-States</td>\n",
       "      <td>&lt;=50K</td>\n",
       "    </tr>\n",
       "  </tbody>\n",
       "</table>\n",
       "</div>"
      ],
      "text/plain": [
       "   age workclass  fnlwgt     education  education.num marital.status  \\\n",
       "0   90         ?   77053       HS-grad              9        Widowed   \n",
       "1   82   Private  132870       HS-grad              9        Widowed   \n",
       "2   66         ?  186061  Some-college             10        Widowed   \n",
       "3   54   Private  140359       7th-8th              4       Divorced   \n",
       "4   41   Private  264663  Some-college             10      Separated   \n",
       "\n",
       "          occupation   relationship   race     sex  capital.gain  \\\n",
       "0                  ?  Not-in-family  White  Female             0   \n",
       "1    Exec-managerial  Not-in-family  White  Female             0   \n",
       "2                  ?      Unmarried  Black  Female             0   \n",
       "3  Machine-op-inspct      Unmarried  White  Female             0   \n",
       "4     Prof-specialty      Own-child  White  Female             0   \n",
       "\n",
       "   capital.loss  hours.per.week native.country income  \n",
       "0          4356              40  United-States  <=50K  \n",
       "1          4356              18  United-States  <=50K  \n",
       "2          4356              40  United-States  <=50K  \n",
       "3          3900              40  United-States  <=50K  \n",
       "4          3900              40  United-States  <=50K  "
      ]
     },
     "execution_count": 3,
     "metadata": {},
     "output_type": "execute_result"
    }
   ],
   "source": [
    "dataset.head()"
   ]
  },
  {
   "cell_type": "code",
   "execution_count": 4,
   "metadata": {},
   "outputs": [
    {
     "name": "stdout",
     "output_type": "stream",
     "text": [
      "<class 'pandas.core.frame.DataFrame'>\n",
      "RangeIndex: 32561 entries, 0 to 32560\n",
      "Data columns (total 15 columns):\n",
      " #   Column          Non-Null Count  Dtype \n",
      "---  ------          --------------  ----- \n",
      " 0   age             32561 non-null  int64 \n",
      " 1   workclass       32561 non-null  object\n",
      " 2   fnlwgt          32561 non-null  int64 \n",
      " 3   education       32561 non-null  object\n",
      " 4   education.num   32561 non-null  int64 \n",
      " 5   marital.status  32561 non-null  object\n",
      " 6   occupation      32561 non-null  object\n",
      " 7   relationship    32561 non-null  object\n",
      " 8   race            32561 non-null  object\n",
      " 9   sex             32561 non-null  object\n",
      " 10  capital.gain    32561 non-null  int64 \n",
      " 11  capital.loss    32561 non-null  int64 \n",
      " 12  hours.per.week  32561 non-null  int64 \n",
      " 13  native.country  32561 non-null  object\n",
      " 14  income          32561 non-null  object\n",
      "dtypes: int64(6), object(9)\n",
      "memory usage: 3.7+ MB\n"
     ]
    }
   ],
   "source": [
    "dataset.info()"
   ]
  },
  {
   "cell_type": "code",
   "execution_count": 5,
   "metadata": {},
   "outputs": [
    {
     "name": "stderr",
     "output_type": "stream",
     "text": [
      "C:\\Users\\habab\\anaconda3\\lib\\site-packages\\pandas\\core\\ops\\array_ops.py:253: FutureWarning: elementwise comparison failed; returning scalar instead, but in the future will perform elementwise comparison\n",
      "  res_values = method(rvalues)\n"
     ]
    },
    {
     "data": {
      "text/plain": [
       "age                  0\n",
       "workclass         1836\n",
       "fnlwgt               0\n",
       "education            0\n",
       "education.num        0\n",
       "marital.status       0\n",
       "occupation        1843\n",
       "relationship         0\n",
       "race                 0\n",
       "sex                  0\n",
       "capital.gain         0\n",
       "capital.loss         0\n",
       "hours.per.week       0\n",
       "native.country     583\n",
       "income               0\n",
       "dtype: int64"
      ]
     },
     "execution_count": 5,
     "metadata": {},
     "output_type": "execute_result"
    }
   ],
   "source": [
    "dataset[dataset == '?'] = np.nan\n",
    "dataset.isnull().sum()"
   ]
  },
  {
   "cell_type": "code",
   "execution_count": 6,
   "metadata": {},
   "outputs": [],
   "source": [
    "index = ['occupation', 'workclass', 'native.country']\n",
    "for index_n in index:\n",
    "    dataset[index_n].fillna(dataset[index_n].mode()[0], inplace=True)"
   ]
  },
  {
   "cell_type": "code",
   "execution_count": 7,
   "metadata": {},
   "outputs": [
    {
     "data": {
      "text/plain": [
       "age               0\n",
       "workclass         0\n",
       "fnlwgt            0\n",
       "education         0\n",
       "education.num     0\n",
       "marital.status    0\n",
       "occupation        0\n",
       "relationship      0\n",
       "race              0\n",
       "sex               0\n",
       "capital.gain      0\n",
       "capital.loss      0\n",
       "hours.per.week    0\n",
       "native.country    0\n",
       "income            0\n",
       "dtype: int64"
      ]
     },
     "execution_count": 7,
     "metadata": {},
     "output_type": "execute_result"
    }
   ],
   "source": [
    "dataset.isnull().sum()"
   ]
  },
  {
   "cell_type": "code",
   "execution_count": 8,
   "metadata": {},
   "outputs": [],
   "source": [
    "from sklearn.preprocessing import StandardScaler\n",
    "from sklearn.preprocessing import LabelEncoder"
   ]
  },
  {
   "cell_type": "code",
   "execution_count": 9,
   "metadata": {},
   "outputs": [],
   "source": [
    "encoder = LabelEncoder()"
   ]
  },
  {
   "cell_type": "code",
   "execution_count": 10,
   "metadata": {},
   "outputs": [
    {
     "data": {
      "text/plain": [
       "'income'"
      ]
     },
     "execution_count": 10,
     "metadata": {},
     "output_type": "execute_result"
    }
   ],
   "source": [
    "index = list(dataset.select_dtypes(['object']).columns.values)\n",
    "index.pop(-1)"
   ]
  },
  {
   "cell_type": "code",
   "execution_count": 11,
   "metadata": {},
   "outputs": [],
   "source": [
    "for objects in index:\n",
    "    dataset[objects] = encoder.fit_transform(dataset[objects])"
   ]
  },
  {
   "cell_type": "code",
   "execution_count": 12,
   "metadata": {
    "scrolled": true
   },
   "outputs": [
    {
     "data": {
      "text/html": [
       "<div>\n",
       "<style scoped>\n",
       "    .dataframe tbody tr th:only-of-type {\n",
       "        vertical-align: middle;\n",
       "    }\n",
       "\n",
       "    .dataframe tbody tr th {\n",
       "        vertical-align: top;\n",
       "    }\n",
       "\n",
       "    .dataframe thead th {\n",
       "        text-align: right;\n",
       "    }\n",
       "</style>\n",
       "<table border=\"1\" class=\"dataframe\">\n",
       "  <thead>\n",
       "    <tr style=\"text-align: right;\">\n",
       "      <th></th>\n",
       "      <th>age</th>\n",
       "      <th>workclass</th>\n",
       "      <th>fnlwgt</th>\n",
       "      <th>education</th>\n",
       "      <th>education.num</th>\n",
       "      <th>marital.status</th>\n",
       "      <th>occupation</th>\n",
       "      <th>relationship</th>\n",
       "      <th>race</th>\n",
       "      <th>sex</th>\n",
       "      <th>capital.gain</th>\n",
       "      <th>capital.loss</th>\n",
       "      <th>hours.per.week</th>\n",
       "      <th>native.country</th>\n",
       "      <th>income</th>\n",
       "    </tr>\n",
       "  </thead>\n",
       "  <tbody>\n",
       "    <tr>\n",
       "      <th>0</th>\n",
       "      <td>90</td>\n",
       "      <td>3</td>\n",
       "      <td>77053</td>\n",
       "      <td>11</td>\n",
       "      <td>9</td>\n",
       "      <td>6</td>\n",
       "      <td>9</td>\n",
       "      <td>1</td>\n",
       "      <td>4</td>\n",
       "      <td>0</td>\n",
       "      <td>0</td>\n",
       "      <td>4356</td>\n",
       "      <td>40</td>\n",
       "      <td>38</td>\n",
       "      <td>0</td>\n",
       "    </tr>\n",
       "    <tr>\n",
       "      <th>1</th>\n",
       "      <td>82</td>\n",
       "      <td>3</td>\n",
       "      <td>132870</td>\n",
       "      <td>11</td>\n",
       "      <td>9</td>\n",
       "      <td>6</td>\n",
       "      <td>3</td>\n",
       "      <td>1</td>\n",
       "      <td>4</td>\n",
       "      <td>0</td>\n",
       "      <td>0</td>\n",
       "      <td>4356</td>\n",
       "      <td>18</td>\n",
       "      <td>38</td>\n",
       "      <td>0</td>\n",
       "    </tr>\n",
       "    <tr>\n",
       "      <th>2</th>\n",
       "      <td>66</td>\n",
       "      <td>3</td>\n",
       "      <td>186061</td>\n",
       "      <td>15</td>\n",
       "      <td>10</td>\n",
       "      <td>6</td>\n",
       "      <td>9</td>\n",
       "      <td>4</td>\n",
       "      <td>2</td>\n",
       "      <td>0</td>\n",
       "      <td>0</td>\n",
       "      <td>4356</td>\n",
       "      <td>40</td>\n",
       "      <td>38</td>\n",
       "      <td>0</td>\n",
       "    </tr>\n",
       "    <tr>\n",
       "      <th>3</th>\n",
       "      <td>54</td>\n",
       "      <td>3</td>\n",
       "      <td>140359</td>\n",
       "      <td>5</td>\n",
       "      <td>4</td>\n",
       "      <td>0</td>\n",
       "      <td>6</td>\n",
       "      <td>4</td>\n",
       "      <td>4</td>\n",
       "      <td>0</td>\n",
       "      <td>0</td>\n",
       "      <td>3900</td>\n",
       "      <td>40</td>\n",
       "      <td>38</td>\n",
       "      <td>0</td>\n",
       "    </tr>\n",
       "    <tr>\n",
       "      <th>4</th>\n",
       "      <td>41</td>\n",
       "      <td>3</td>\n",
       "      <td>264663</td>\n",
       "      <td>15</td>\n",
       "      <td>10</td>\n",
       "      <td>5</td>\n",
       "      <td>9</td>\n",
       "      <td>3</td>\n",
       "      <td>4</td>\n",
       "      <td>0</td>\n",
       "      <td>0</td>\n",
       "      <td>3900</td>\n",
       "      <td>40</td>\n",
       "      <td>38</td>\n",
       "      <td>0</td>\n",
       "    </tr>\n",
       "    <tr>\n",
       "      <th>...</th>\n",
       "      <td>...</td>\n",
       "      <td>...</td>\n",
       "      <td>...</td>\n",
       "      <td>...</td>\n",
       "      <td>...</td>\n",
       "      <td>...</td>\n",
       "      <td>...</td>\n",
       "      <td>...</td>\n",
       "      <td>...</td>\n",
       "      <td>...</td>\n",
       "      <td>...</td>\n",
       "      <td>...</td>\n",
       "      <td>...</td>\n",
       "      <td>...</td>\n",
       "      <td>...</td>\n",
       "    </tr>\n",
       "    <tr>\n",
       "      <th>32556</th>\n",
       "      <td>22</td>\n",
       "      <td>3</td>\n",
       "      <td>310152</td>\n",
       "      <td>15</td>\n",
       "      <td>10</td>\n",
       "      <td>4</td>\n",
       "      <td>10</td>\n",
       "      <td>1</td>\n",
       "      <td>4</td>\n",
       "      <td>1</td>\n",
       "      <td>0</td>\n",
       "      <td>0</td>\n",
       "      <td>40</td>\n",
       "      <td>38</td>\n",
       "      <td>0</td>\n",
       "    </tr>\n",
       "    <tr>\n",
       "      <th>32557</th>\n",
       "      <td>27</td>\n",
       "      <td>3</td>\n",
       "      <td>257302</td>\n",
       "      <td>7</td>\n",
       "      <td>12</td>\n",
       "      <td>2</td>\n",
       "      <td>12</td>\n",
       "      <td>5</td>\n",
       "      <td>4</td>\n",
       "      <td>0</td>\n",
       "      <td>0</td>\n",
       "      <td>0</td>\n",
       "      <td>38</td>\n",
       "      <td>38</td>\n",
       "      <td>0</td>\n",
       "    </tr>\n",
       "    <tr>\n",
       "      <th>32558</th>\n",
       "      <td>40</td>\n",
       "      <td>3</td>\n",
       "      <td>154374</td>\n",
       "      <td>11</td>\n",
       "      <td>9</td>\n",
       "      <td>2</td>\n",
       "      <td>6</td>\n",
       "      <td>0</td>\n",
       "      <td>4</td>\n",
       "      <td>1</td>\n",
       "      <td>0</td>\n",
       "      <td>0</td>\n",
       "      <td>40</td>\n",
       "      <td>38</td>\n",
       "      <td>1</td>\n",
       "    </tr>\n",
       "    <tr>\n",
       "      <th>32559</th>\n",
       "      <td>58</td>\n",
       "      <td>3</td>\n",
       "      <td>151910</td>\n",
       "      <td>11</td>\n",
       "      <td>9</td>\n",
       "      <td>6</td>\n",
       "      <td>0</td>\n",
       "      <td>4</td>\n",
       "      <td>4</td>\n",
       "      <td>0</td>\n",
       "      <td>0</td>\n",
       "      <td>0</td>\n",
       "      <td>40</td>\n",
       "      <td>38</td>\n",
       "      <td>0</td>\n",
       "    </tr>\n",
       "    <tr>\n",
       "      <th>32560</th>\n",
       "      <td>22</td>\n",
       "      <td>3</td>\n",
       "      <td>201490</td>\n",
       "      <td>11</td>\n",
       "      <td>9</td>\n",
       "      <td>4</td>\n",
       "      <td>0</td>\n",
       "      <td>3</td>\n",
       "      <td>4</td>\n",
       "      <td>1</td>\n",
       "      <td>0</td>\n",
       "      <td>0</td>\n",
       "      <td>20</td>\n",
       "      <td>38</td>\n",
       "      <td>0</td>\n",
       "    </tr>\n",
       "  </tbody>\n",
       "</table>\n",
       "<p>32561 rows × 15 columns</p>\n",
       "</div>"
      ],
      "text/plain": [
       "       age  workclass  fnlwgt  education  education.num  marital.status  \\\n",
       "0       90          3   77053         11              9               6   \n",
       "1       82          3  132870         11              9               6   \n",
       "2       66          3  186061         15             10               6   \n",
       "3       54          3  140359          5              4               0   \n",
       "4       41          3  264663         15             10               5   \n",
       "...    ...        ...     ...        ...            ...             ...   \n",
       "32556   22          3  310152         15             10               4   \n",
       "32557   27          3  257302          7             12               2   \n",
       "32558   40          3  154374         11              9               2   \n",
       "32559   58          3  151910         11              9               6   \n",
       "32560   22          3  201490         11              9               4   \n",
       "\n",
       "       occupation  relationship  race  sex  capital.gain  capital.loss  \\\n",
       "0               9             1     4    0             0          4356   \n",
       "1               3             1     4    0             0          4356   \n",
       "2               9             4     2    0             0          4356   \n",
       "3               6             4     4    0             0          3900   \n",
       "4               9             3     4    0             0          3900   \n",
       "...           ...           ...   ...  ...           ...           ...   \n",
       "32556          10             1     4    1             0             0   \n",
       "32557          12             5     4    0             0             0   \n",
       "32558           6             0     4    1             0             0   \n",
       "32559           0             4     4    0             0             0   \n",
       "32560           0             3     4    1             0             0   \n",
       "\n",
       "       hours.per.week  native.country  income  \n",
       "0                  40              38       0  \n",
       "1                  18              38       0  \n",
       "2                  40              38       0  \n",
       "3                  40              38       0  \n",
       "4                  40              38       0  \n",
       "...               ...             ...     ...  \n",
       "32556              40              38       0  \n",
       "32557              38              38       0  \n",
       "32558              40              38       1  \n",
       "32559              40              38       0  \n",
       "32560              20              38       0  \n",
       "\n",
       "[32561 rows x 15 columns]"
      ]
     },
     "execution_count": 12,
     "metadata": {},
     "output_type": "execute_result"
    }
   ],
   "source": [
    "labe_ec = LabelEncoder()\n",
    "dataset['income'] = labe_ec.fit_transform(dataset['income'])\n",
    "dataset"
   ]
  },
  {
   "cell_type": "code",
   "execution_count": 13,
   "metadata": {},
   "outputs": [],
   "source": [
    "data_x = dataset.drop('income', 1)\n",
    "data_y = dataset['income']"
   ]
  },
  {
   "cell_type": "code",
   "execution_count": 14,
   "metadata": {},
   "outputs": [],
   "source": [
    "scale = StandardScaler()\n",
    "data_x = pd.DataFrame(scale.fit_transform(data_x), columns=data_x.columns)"
   ]
  },
  {
   "cell_type": "code",
   "execution_count": 15,
   "metadata": {},
   "outputs": [
    {
     "data": {
      "text/html": [
       "<div>\n",
       "<style scoped>\n",
       "    .dataframe tbody tr th:only-of-type {\n",
       "        vertical-align: middle;\n",
       "    }\n",
       "\n",
       "    .dataframe tbody tr th {\n",
       "        vertical-align: top;\n",
       "    }\n",
       "\n",
       "    .dataframe thead th {\n",
       "        text-align: right;\n",
       "    }\n",
       "</style>\n",
       "<table border=\"1\" class=\"dataframe\">\n",
       "  <thead>\n",
       "    <tr style=\"text-align: right;\">\n",
       "      <th></th>\n",
       "      <th>age</th>\n",
       "      <th>workclass</th>\n",
       "      <th>fnlwgt</th>\n",
       "      <th>education</th>\n",
       "      <th>education.num</th>\n",
       "      <th>marital.status</th>\n",
       "      <th>occupation</th>\n",
       "      <th>relationship</th>\n",
       "      <th>race</th>\n",
       "      <th>sex</th>\n",
       "      <th>capital.gain</th>\n",
       "      <th>capital.loss</th>\n",
       "      <th>hours.per.week</th>\n",
       "      <th>native.country</th>\n",
       "    </tr>\n",
       "  </thead>\n",
       "  <tbody>\n",
       "    <tr>\n",
       "      <th>0</th>\n",
       "      <td>3.769612</td>\n",
       "      <td>-0.085296</td>\n",
       "      <td>-1.067997</td>\n",
       "      <td>0.181332</td>\n",
       "      <td>-0.420060</td>\n",
       "      <td>2.249480</td>\n",
       "      <td>0.720237</td>\n",
       "      <td>-0.277805</td>\n",
       "      <td>0.393668</td>\n",
       "      <td>-1.422331</td>\n",
       "      <td>-0.14592</td>\n",
       "      <td>10.593507</td>\n",
       "      <td>-0.035429</td>\n",
       "      <td>0.26137</td>\n",
       "    </tr>\n",
       "    <tr>\n",
       "      <th>1</th>\n",
       "      <td>3.183112</td>\n",
       "      <td>-0.085296</td>\n",
       "      <td>-0.539169</td>\n",
       "      <td>0.181332</td>\n",
       "      <td>-0.420060</td>\n",
       "      <td>2.249480</td>\n",
       "      <td>-0.790092</td>\n",
       "      <td>-0.277805</td>\n",
       "      <td>0.393668</td>\n",
       "      <td>-1.422331</td>\n",
       "      <td>-0.14592</td>\n",
       "      <td>10.593507</td>\n",
       "      <td>-1.817204</td>\n",
       "      <td>0.26137</td>\n",
       "    </tr>\n",
       "    <tr>\n",
       "      <th>2</th>\n",
       "      <td>2.010110</td>\n",
       "      <td>-0.085296</td>\n",
       "      <td>-0.035220</td>\n",
       "      <td>1.214869</td>\n",
       "      <td>-0.031360</td>\n",
       "      <td>2.249480</td>\n",
       "      <td>0.720237</td>\n",
       "      <td>1.589322</td>\n",
       "      <td>-1.962621</td>\n",
       "      <td>-1.422331</td>\n",
       "      <td>-0.14592</td>\n",
       "      <td>10.593507</td>\n",
       "      <td>-0.035429</td>\n",
       "      <td>0.26137</td>\n",
       "    </tr>\n",
       "    <tr>\n",
       "      <th>3</th>\n",
       "      <td>1.130359</td>\n",
       "      <td>-0.085296</td>\n",
       "      <td>-0.468215</td>\n",
       "      <td>-1.368974</td>\n",
       "      <td>-2.363558</td>\n",
       "      <td>-1.734058</td>\n",
       "      <td>-0.034928</td>\n",
       "      <td>1.589322</td>\n",
       "      <td>0.393668</td>\n",
       "      <td>-1.422331</td>\n",
       "      <td>-0.14592</td>\n",
       "      <td>9.461864</td>\n",
       "      <td>-0.035429</td>\n",
       "      <td>0.26137</td>\n",
       "    </tr>\n",
       "    <tr>\n",
       "      <th>4</th>\n",
       "      <td>0.177296</td>\n",
       "      <td>-0.085296</td>\n",
       "      <td>0.709482</td>\n",
       "      <td>1.214869</td>\n",
       "      <td>-0.031360</td>\n",
       "      <td>1.585557</td>\n",
       "      <td>0.720237</td>\n",
       "      <td>0.966947</td>\n",
       "      <td>0.393668</td>\n",
       "      <td>-1.422331</td>\n",
       "      <td>-0.14592</td>\n",
       "      <td>9.461864</td>\n",
       "      <td>-0.035429</td>\n",
       "      <td>0.26137</td>\n",
       "    </tr>\n",
       "    <tr>\n",
       "      <th>...</th>\n",
       "      <td>...</td>\n",
       "      <td>...</td>\n",
       "      <td>...</td>\n",
       "      <td>...</td>\n",
       "      <td>...</td>\n",
       "      <td>...</td>\n",
       "      <td>...</td>\n",
       "      <td>...</td>\n",
       "      <td>...</td>\n",
       "      <td>...</td>\n",
       "      <td>...</td>\n",
       "      <td>...</td>\n",
       "      <td>...</td>\n",
       "      <td>...</td>\n",
       "    </tr>\n",
       "    <tr>\n",
       "      <th>32556</th>\n",
       "      <td>-1.215643</td>\n",
       "      <td>-0.085296</td>\n",
       "      <td>1.140460</td>\n",
       "      <td>1.214869</td>\n",
       "      <td>-0.031360</td>\n",
       "      <td>0.921634</td>\n",
       "      <td>0.971958</td>\n",
       "      <td>-0.277805</td>\n",
       "      <td>0.393668</td>\n",
       "      <td>0.703071</td>\n",
       "      <td>-0.14592</td>\n",
       "      <td>-0.216660</td>\n",
       "      <td>-0.035429</td>\n",
       "      <td>0.26137</td>\n",
       "    </tr>\n",
       "    <tr>\n",
       "      <th>32557</th>\n",
       "      <td>-0.849080</td>\n",
       "      <td>-0.085296</td>\n",
       "      <td>0.639741</td>\n",
       "      <td>-0.852205</td>\n",
       "      <td>0.746039</td>\n",
       "      <td>-0.406212</td>\n",
       "      <td>1.475401</td>\n",
       "      <td>2.211698</td>\n",
       "      <td>0.393668</td>\n",
       "      <td>-1.422331</td>\n",
       "      <td>-0.14592</td>\n",
       "      <td>-0.216660</td>\n",
       "      <td>-0.197409</td>\n",
       "      <td>0.26137</td>\n",
       "    </tr>\n",
       "    <tr>\n",
       "      <th>32558</th>\n",
       "      <td>0.103983</td>\n",
       "      <td>-0.085296</td>\n",
       "      <td>-0.335433</td>\n",
       "      <td>0.181332</td>\n",
       "      <td>-0.420060</td>\n",
       "      <td>-0.406212</td>\n",
       "      <td>-0.034928</td>\n",
       "      <td>-0.900181</td>\n",
       "      <td>0.393668</td>\n",
       "      <td>0.703071</td>\n",
       "      <td>-0.14592</td>\n",
       "      <td>-0.216660</td>\n",
       "      <td>-0.035429</td>\n",
       "      <td>0.26137</td>\n",
       "    </tr>\n",
       "    <tr>\n",
       "      <th>32559</th>\n",
       "      <td>1.423610</td>\n",
       "      <td>-0.085296</td>\n",
       "      <td>-0.358777</td>\n",
       "      <td>0.181332</td>\n",
       "      <td>-0.420060</td>\n",
       "      <td>2.249480</td>\n",
       "      <td>-1.545256</td>\n",
       "      <td>1.589322</td>\n",
       "      <td>0.393668</td>\n",
       "      <td>-1.422331</td>\n",
       "      <td>-0.14592</td>\n",
       "      <td>-0.216660</td>\n",
       "      <td>-0.035429</td>\n",
       "      <td>0.26137</td>\n",
       "    </tr>\n",
       "    <tr>\n",
       "      <th>32560</th>\n",
       "      <td>-1.215643</td>\n",
       "      <td>-0.085296</td>\n",
       "      <td>0.110960</td>\n",
       "      <td>0.181332</td>\n",
       "      <td>-0.420060</td>\n",
       "      <td>0.921634</td>\n",
       "      <td>-1.545256</td>\n",
       "      <td>0.966947</td>\n",
       "      <td>0.393668</td>\n",
       "      <td>0.703071</td>\n",
       "      <td>-0.14592</td>\n",
       "      <td>-0.216660</td>\n",
       "      <td>-1.655225</td>\n",
       "      <td>0.26137</td>\n",
       "    </tr>\n",
       "  </tbody>\n",
       "</table>\n",
       "<p>32561 rows × 14 columns</p>\n",
       "</div>"
      ],
      "text/plain": [
       "            age  workclass    fnlwgt  education  education.num  \\\n",
       "0      3.769612  -0.085296 -1.067997   0.181332      -0.420060   \n",
       "1      3.183112  -0.085296 -0.539169   0.181332      -0.420060   \n",
       "2      2.010110  -0.085296 -0.035220   1.214869      -0.031360   \n",
       "3      1.130359  -0.085296 -0.468215  -1.368974      -2.363558   \n",
       "4      0.177296  -0.085296  0.709482   1.214869      -0.031360   \n",
       "...         ...        ...       ...        ...            ...   \n",
       "32556 -1.215643  -0.085296  1.140460   1.214869      -0.031360   \n",
       "32557 -0.849080  -0.085296  0.639741  -0.852205       0.746039   \n",
       "32558  0.103983  -0.085296 -0.335433   0.181332      -0.420060   \n",
       "32559  1.423610  -0.085296 -0.358777   0.181332      -0.420060   \n",
       "32560 -1.215643  -0.085296  0.110960   0.181332      -0.420060   \n",
       "\n",
       "       marital.status  occupation  relationship      race       sex  \\\n",
       "0            2.249480    0.720237     -0.277805  0.393668 -1.422331   \n",
       "1            2.249480   -0.790092     -0.277805  0.393668 -1.422331   \n",
       "2            2.249480    0.720237      1.589322 -1.962621 -1.422331   \n",
       "3           -1.734058   -0.034928      1.589322  0.393668 -1.422331   \n",
       "4            1.585557    0.720237      0.966947  0.393668 -1.422331   \n",
       "...               ...         ...           ...       ...       ...   \n",
       "32556        0.921634    0.971958     -0.277805  0.393668  0.703071   \n",
       "32557       -0.406212    1.475401      2.211698  0.393668 -1.422331   \n",
       "32558       -0.406212   -0.034928     -0.900181  0.393668  0.703071   \n",
       "32559        2.249480   -1.545256      1.589322  0.393668 -1.422331   \n",
       "32560        0.921634   -1.545256      0.966947  0.393668  0.703071   \n",
       "\n",
       "       capital.gain  capital.loss  hours.per.week  native.country  \n",
       "0          -0.14592     10.593507       -0.035429         0.26137  \n",
       "1          -0.14592     10.593507       -1.817204         0.26137  \n",
       "2          -0.14592     10.593507       -0.035429         0.26137  \n",
       "3          -0.14592      9.461864       -0.035429         0.26137  \n",
       "4          -0.14592      9.461864       -0.035429         0.26137  \n",
       "...             ...           ...             ...             ...  \n",
       "32556      -0.14592     -0.216660       -0.035429         0.26137  \n",
       "32557      -0.14592     -0.216660       -0.197409         0.26137  \n",
       "32558      -0.14592     -0.216660       -0.035429         0.26137  \n",
       "32559      -0.14592     -0.216660       -0.035429         0.26137  \n",
       "32560      -0.14592     -0.216660       -1.655225         0.26137  \n",
       "\n",
       "[32561 rows x 14 columns]"
      ]
     },
     "execution_count": 15,
     "metadata": {},
     "output_type": "execute_result"
    }
   ],
   "source": [
    "data_x"
   ]
  },
  {
   "cell_type": "code",
   "execution_count": 16,
   "metadata": {},
   "outputs": [
    {
     "data": {
      "text/plain": [
       "0        0\n",
       "1        0\n",
       "2        0\n",
       "3        0\n",
       "4        0\n",
       "        ..\n",
       "32556    0\n",
       "32557    0\n",
       "32558    1\n",
       "32559    0\n",
       "32560    0\n",
       "Name: income, Length: 32561, dtype: int32"
      ]
     },
     "execution_count": 16,
     "metadata": {},
     "output_type": "execute_result"
    }
   ],
   "source": [
    "data_y"
   ]
  },
  {
   "cell_type": "code",
   "execution_count": 17,
   "metadata": {},
   "outputs": [],
   "source": [
    "from sklearn.model_selection import train_test_split"
   ]
  },
  {
   "cell_type": "code",
   "execution_count": 18,
   "metadata": {},
   "outputs": [],
   "source": [
    "x_train,x_test, y_train, y_test = train_test_split(data_x, data_y, test_size=0.3, random_state = 40)"
   ]
  },
  {
   "cell_type": "code",
   "execution_count": 19,
   "metadata": {},
   "outputs": [
    {
     "data": {
      "text/html": [
       "<div>\n",
       "<style scoped>\n",
       "    .dataframe tbody tr th:only-of-type {\n",
       "        vertical-align: middle;\n",
       "    }\n",
       "\n",
       "    .dataframe tbody tr th {\n",
       "        vertical-align: top;\n",
       "    }\n",
       "\n",
       "    .dataframe thead th {\n",
       "        text-align: right;\n",
       "    }\n",
       "</style>\n",
       "<table border=\"1\" class=\"dataframe\">\n",
       "  <thead>\n",
       "    <tr style=\"text-align: right;\">\n",
       "      <th></th>\n",
       "      <th>age</th>\n",
       "      <th>workclass</th>\n",
       "      <th>fnlwgt</th>\n",
       "      <th>education</th>\n",
       "      <th>education.num</th>\n",
       "      <th>marital.status</th>\n",
       "      <th>occupation</th>\n",
       "      <th>relationship</th>\n",
       "      <th>race</th>\n",
       "      <th>sex</th>\n",
       "      <th>capital.gain</th>\n",
       "      <th>capital.loss</th>\n",
       "      <th>hours.per.week</th>\n",
       "      <th>native.country</th>\n",
       "    </tr>\n",
       "  </thead>\n",
       "  <tbody>\n",
       "    <tr>\n",
       "      <th>22807</th>\n",
       "      <td>0.323921</td>\n",
       "      <td>-1.891692</td>\n",
       "      <td>-0.922841</td>\n",
       "      <td>0.439716</td>\n",
       "      <td>1.523438</td>\n",
       "      <td>-0.406212</td>\n",
       "      <td>0.720237</td>\n",
       "      <td>2.211698</td>\n",
       "      <td>-1.962621</td>\n",
       "      <td>-1.422331</td>\n",
       "      <td>-0.14592</td>\n",
       "      <td>-0.21666</td>\n",
       "      <td>-0.440378</td>\n",
       "      <td>0.26137</td>\n",
       "    </tr>\n",
       "    <tr>\n",
       "      <th>7240</th>\n",
       "      <td>0.543859</td>\n",
       "      <td>2.624298</td>\n",
       "      <td>-0.787065</td>\n",
       "      <td>0.439716</td>\n",
       "      <td>1.523438</td>\n",
       "      <td>0.921634</td>\n",
       "      <td>-0.790092</td>\n",
       "      <td>-0.277805</td>\n",
       "      <td>0.393668</td>\n",
       "      <td>-1.422331</td>\n",
       "      <td>-0.14592</td>\n",
       "      <td>-0.21666</td>\n",
       "      <td>-0.197409</td>\n",
       "      <td>0.26137</td>\n",
       "    </tr>\n",
       "    <tr>\n",
       "      <th>18266</th>\n",
       "      <td>-0.335892</td>\n",
       "      <td>-0.085296</td>\n",
       "      <td>0.493675</td>\n",
       "      <td>0.181332</td>\n",
       "      <td>-0.420060</td>\n",
       "      <td>-0.406212</td>\n",
       "      <td>1.727122</td>\n",
       "      <td>-0.900181</td>\n",
       "      <td>0.393668</td>\n",
       "      <td>0.703071</td>\n",
       "      <td>-0.14592</td>\n",
       "      <td>-0.21666</td>\n",
       "      <td>0.369519</td>\n",
       "      <td>0.26137</td>\n",
       "    </tr>\n",
       "    <tr>\n",
       "      <th>32556</th>\n",
       "      <td>-1.215643</td>\n",
       "      <td>-0.085296</td>\n",
       "      <td>1.140460</td>\n",
       "      <td>1.214869</td>\n",
       "      <td>-0.031360</td>\n",
       "      <td>0.921634</td>\n",
       "      <td>0.971958</td>\n",
       "      <td>-0.277805</td>\n",
       "      <td>0.393668</td>\n",
       "      <td>0.703071</td>\n",
       "      <td>-0.14592</td>\n",
       "      <td>-0.21666</td>\n",
       "      <td>-0.035429</td>\n",
       "      <td>0.26137</td>\n",
       "    </tr>\n",
       "    <tr>\n",
       "      <th>14359</th>\n",
       "      <td>-1.142331</td>\n",
       "      <td>-1.891692</td>\n",
       "      <td>0.930471</td>\n",
       "      <td>-0.335437</td>\n",
       "      <td>1.134739</td>\n",
       "      <td>0.921634</td>\n",
       "      <td>0.720237</td>\n",
       "      <td>-0.277805</td>\n",
       "      <td>0.393668</td>\n",
       "      <td>0.703071</td>\n",
       "      <td>-0.14592</td>\n",
       "      <td>-0.21666</td>\n",
       "      <td>-0.035429</td>\n",
       "      <td>0.26137</td>\n",
       "    </tr>\n",
       "    <tr>\n",
       "      <th>...</th>\n",
       "      <td>...</td>\n",
       "      <td>...</td>\n",
       "      <td>...</td>\n",
       "      <td>...</td>\n",
       "      <td>...</td>\n",
       "      <td>...</td>\n",
       "      <td>...</td>\n",
       "      <td>...</td>\n",
       "      <td>...</td>\n",
       "      <td>...</td>\n",
       "      <td>...</td>\n",
       "      <td>...</td>\n",
       "      <td>...</td>\n",
       "      <td>...</td>\n",
       "    </tr>\n",
       "    <tr>\n",
       "      <th>27640</th>\n",
       "      <td>-0.042642</td>\n",
       "      <td>0.817902</td>\n",
       "      <td>1.160166</td>\n",
       "      <td>1.214869</td>\n",
       "      <td>-0.031360</td>\n",
       "      <td>-0.406212</td>\n",
       "      <td>1.223679</td>\n",
       "      <td>-0.900181</td>\n",
       "      <td>0.393668</td>\n",
       "      <td>0.703071</td>\n",
       "      <td>-0.14592</td>\n",
       "      <td>-0.21666</td>\n",
       "      <td>0.774468</td>\n",
       "      <td>0.26137</td>\n",
       "    </tr>\n",
       "    <tr>\n",
       "      <th>14501</th>\n",
       "      <td>-0.262580</td>\n",
       "      <td>2.624298</td>\n",
       "      <td>0.555154</td>\n",
       "      <td>1.214869</td>\n",
       "      <td>-0.031360</td>\n",
       "      <td>-1.734058</td>\n",
       "      <td>-1.545256</td>\n",
       "      <td>1.589322</td>\n",
       "      <td>-1.962621</td>\n",
       "      <td>-1.422331</td>\n",
       "      <td>-0.14592</td>\n",
       "      <td>-0.21666</td>\n",
       "      <td>-0.035429</td>\n",
       "      <td>0.26137</td>\n",
       "    </tr>\n",
       "    <tr>\n",
       "      <th>30727</th>\n",
       "      <td>-0.702455</td>\n",
       "      <td>-0.085296</td>\n",
       "      <td>0.020433</td>\n",
       "      <td>0.181332</td>\n",
       "      <td>-0.420060</td>\n",
       "      <td>0.921634</td>\n",
       "      <td>0.720237</td>\n",
       "      <td>-0.277805</td>\n",
       "      <td>0.393668</td>\n",
       "      <td>0.703071</td>\n",
       "      <td>-0.14592</td>\n",
       "      <td>-0.21666</td>\n",
       "      <td>-0.035429</td>\n",
       "      <td>0.26137</td>\n",
       "    </tr>\n",
       "    <tr>\n",
       "      <th>14555</th>\n",
       "      <td>-0.042642</td>\n",
       "      <td>-0.085296</td>\n",
       "      <td>-1.278678</td>\n",
       "      <td>-0.593821</td>\n",
       "      <td>0.357340</td>\n",
       "      <td>-0.406212</td>\n",
       "      <td>-1.041813</td>\n",
       "      <td>-0.900181</td>\n",
       "      <td>0.393668</td>\n",
       "      <td>0.703071</td>\n",
       "      <td>-0.14592</td>\n",
       "      <td>-0.21666</td>\n",
       "      <td>-0.035429</td>\n",
       "      <td>0.26137</td>\n",
       "    </tr>\n",
       "    <tr>\n",
       "      <th>11590</th>\n",
       "      <td>1.790173</td>\n",
       "      <td>-0.085296</td>\n",
       "      <td>0.712371</td>\n",
       "      <td>-0.335437</td>\n",
       "      <td>1.134739</td>\n",
       "      <td>0.921634</td>\n",
       "      <td>-1.545256</td>\n",
       "      <td>-0.277805</td>\n",
       "      <td>0.393668</td>\n",
       "      <td>0.703071</td>\n",
       "      <td>-0.14592</td>\n",
       "      <td>-0.21666</td>\n",
       "      <td>-0.035429</td>\n",
       "      <td>0.26137</td>\n",
       "    </tr>\n",
       "  </tbody>\n",
       "</table>\n",
       "<p>22792 rows × 14 columns</p>\n",
       "</div>"
      ],
      "text/plain": [
       "            age  workclass    fnlwgt  education  education.num  \\\n",
       "22807  0.323921  -1.891692 -0.922841   0.439716       1.523438   \n",
       "7240   0.543859   2.624298 -0.787065   0.439716       1.523438   \n",
       "18266 -0.335892  -0.085296  0.493675   0.181332      -0.420060   \n",
       "32556 -1.215643  -0.085296  1.140460   1.214869      -0.031360   \n",
       "14359 -1.142331  -1.891692  0.930471  -0.335437       1.134739   \n",
       "...         ...        ...       ...        ...            ...   \n",
       "27640 -0.042642   0.817902  1.160166   1.214869      -0.031360   \n",
       "14501 -0.262580   2.624298  0.555154   1.214869      -0.031360   \n",
       "30727 -0.702455  -0.085296  0.020433   0.181332      -0.420060   \n",
       "14555 -0.042642  -0.085296 -1.278678  -0.593821       0.357340   \n",
       "11590  1.790173  -0.085296  0.712371  -0.335437       1.134739   \n",
       "\n",
       "       marital.status  occupation  relationship      race       sex  \\\n",
       "22807       -0.406212    0.720237      2.211698 -1.962621 -1.422331   \n",
       "7240         0.921634   -0.790092     -0.277805  0.393668 -1.422331   \n",
       "18266       -0.406212    1.727122     -0.900181  0.393668  0.703071   \n",
       "32556        0.921634    0.971958     -0.277805  0.393668  0.703071   \n",
       "14359        0.921634    0.720237     -0.277805  0.393668  0.703071   \n",
       "...               ...         ...           ...       ...       ...   \n",
       "27640       -0.406212    1.223679     -0.900181  0.393668  0.703071   \n",
       "14501       -1.734058   -1.545256      1.589322 -1.962621 -1.422331   \n",
       "30727        0.921634    0.720237     -0.277805  0.393668  0.703071   \n",
       "14555       -0.406212   -1.041813     -0.900181  0.393668  0.703071   \n",
       "11590        0.921634   -1.545256     -0.277805  0.393668  0.703071   \n",
       "\n",
       "       capital.gain  capital.loss  hours.per.week  native.country  \n",
       "22807      -0.14592      -0.21666       -0.440378         0.26137  \n",
       "7240       -0.14592      -0.21666       -0.197409         0.26137  \n",
       "18266      -0.14592      -0.21666        0.369519         0.26137  \n",
       "32556      -0.14592      -0.21666       -0.035429         0.26137  \n",
       "14359      -0.14592      -0.21666       -0.035429         0.26137  \n",
       "...             ...           ...             ...             ...  \n",
       "27640      -0.14592      -0.21666        0.774468         0.26137  \n",
       "14501      -0.14592      -0.21666       -0.035429         0.26137  \n",
       "30727      -0.14592      -0.21666       -0.035429         0.26137  \n",
       "14555      -0.14592      -0.21666       -0.035429         0.26137  \n",
       "11590      -0.14592      -0.21666       -0.035429         0.26137  \n",
       "\n",
       "[22792 rows x 14 columns]"
      ]
     },
     "execution_count": 19,
     "metadata": {},
     "output_type": "execute_result"
    }
   ],
   "source": [
    "x_train"
   ]
  },
  {
   "cell_type": "code",
   "execution_count": 20,
   "metadata": {},
   "outputs": [
    {
     "data": {
      "text/html": [
       "<div>\n",
       "<style scoped>\n",
       "    .dataframe tbody tr th:only-of-type {\n",
       "        vertical-align: middle;\n",
       "    }\n",
       "\n",
       "    .dataframe tbody tr th {\n",
       "        vertical-align: top;\n",
       "    }\n",
       "\n",
       "    .dataframe thead th {\n",
       "        text-align: right;\n",
       "    }\n",
       "</style>\n",
       "<table border=\"1\" class=\"dataframe\">\n",
       "  <thead>\n",
       "    <tr style=\"text-align: right;\">\n",
       "      <th></th>\n",
       "      <th>age</th>\n",
       "      <th>workclass</th>\n",
       "      <th>fnlwgt</th>\n",
       "      <th>education</th>\n",
       "      <th>education.num</th>\n",
       "      <th>marital.status</th>\n",
       "      <th>occupation</th>\n",
       "      <th>relationship</th>\n",
       "      <th>race</th>\n",
       "      <th>sex</th>\n",
       "      <th>capital.gain</th>\n",
       "      <th>capital.loss</th>\n",
       "      <th>hours.per.week</th>\n",
       "      <th>native.country</th>\n",
       "    </tr>\n",
       "  </thead>\n",
       "  <tbody>\n",
       "    <tr>\n",
       "      <th>age</th>\n",
       "      <td>1.000000</td>\n",
       "      <td>0.046052</td>\n",
       "      <td>-0.079351</td>\n",
       "      <td>-0.009073</td>\n",
       "      <td>0.035522</td>\n",
       "      <td>-0.260704</td>\n",
       "      <td>-0.002822</td>\n",
       "      <td>-0.263769</td>\n",
       "      <td>0.026341</td>\n",
       "      <td>0.086292</td>\n",
       "      <td>0.079887</td>\n",
       "      <td>0.063467</td>\n",
       "      <td>0.063099</td>\n",
       "      <td>-0.004224</td>\n",
       "    </tr>\n",
       "    <tr>\n",
       "      <th>workclass</th>\n",
       "      <td>0.046052</td>\n",
       "      <td>1.000000</td>\n",
       "      <td>-0.023634</td>\n",
       "      <td>0.008791</td>\n",
       "      <td>0.009099</td>\n",
       "      <td>-0.018398</td>\n",
       "      <td>0.008666</td>\n",
       "      <td>-0.058779</td>\n",
       "      <td>0.047251</td>\n",
       "      <td>0.068354</td>\n",
       "      <td>0.033576</td>\n",
       "      <td>0.004701</td>\n",
       "      <td>0.035298</td>\n",
       "      <td>-0.006550</td>\n",
       "    </tr>\n",
       "    <tr>\n",
       "      <th>fnlwgt</th>\n",
       "      <td>-0.079351</td>\n",
       "      <td>-0.023634</td>\n",
       "      <td>1.000000</td>\n",
       "      <td>-0.029658</td>\n",
       "      <td>-0.041205</td>\n",
       "      <td>0.029146</td>\n",
       "      <td>-0.000027</td>\n",
       "      <td>0.007298</td>\n",
       "      <td>-0.018526</td>\n",
       "      <td>0.028119</td>\n",
       "      <td>-0.003100</td>\n",
       "      <td>-0.008912</td>\n",
       "      <td>-0.017463</td>\n",
       "      <td>-0.060801</td>\n",
       "    </tr>\n",
       "    <tr>\n",
       "      <th>education</th>\n",
       "      <td>-0.009073</td>\n",
       "      <td>0.008791</td>\n",
       "      <td>-0.029658</td>\n",
       "      <td>1.000000</td>\n",
       "      <td>0.360780</td>\n",
       "      <td>-0.039483</td>\n",
       "      <td>-0.036256</td>\n",
       "      <td>-0.011257</td>\n",
       "      <td>0.013312</td>\n",
       "      <td>-0.025716</td>\n",
       "      <td>0.028458</td>\n",
       "      <td>0.027775</td>\n",
       "      <td>0.058936</td>\n",
       "      <td>0.082555</td>\n",
       "    </tr>\n",
       "    <tr>\n",
       "      <th>education.num</th>\n",
       "      <td>0.035522</td>\n",
       "      <td>0.009099</td>\n",
       "      <td>-0.041205</td>\n",
       "      <td>0.360780</td>\n",
       "      <td>1.000000</td>\n",
       "      <td>-0.071671</td>\n",
       "      <td>0.073993</td>\n",
       "      <td>-0.089787</td>\n",
       "      <td>0.025143</td>\n",
       "      <td>0.012263</td>\n",
       "      <td>0.117632</td>\n",
       "      <td>0.086386</td>\n",
       "      <td>0.150131</td>\n",
       "      <td>0.092267</td>\n",
       "    </tr>\n",
       "    <tr>\n",
       "      <th>marital.status</th>\n",
       "      <td>-0.260704</td>\n",
       "      <td>-0.018398</td>\n",
       "      <td>0.029146</td>\n",
       "      <td>-0.039483</td>\n",
       "      <td>-0.071671</td>\n",
       "      <td>1.000000</td>\n",
       "      <td>0.034025</td>\n",
       "      <td>0.185566</td>\n",
       "      <td>-0.071807</td>\n",
       "      <td>-0.126718</td>\n",
       "      <td>-0.044431</td>\n",
       "      <td>-0.042476</td>\n",
       "      <td>-0.191886</td>\n",
       "      <td>-0.017876</td>\n",
       "    </tr>\n",
       "    <tr>\n",
       "      <th>occupation</th>\n",
       "      <td>-0.002822</td>\n",
       "      <td>0.008666</td>\n",
       "      <td>-0.000027</td>\n",
       "      <td>-0.036256</td>\n",
       "      <td>0.073993</td>\n",
       "      <td>0.034025</td>\n",
       "      <td>1.000000</td>\n",
       "      <td>-0.041468</td>\n",
       "      <td>-0.006729</td>\n",
       "      <td>0.052070</td>\n",
       "      <td>0.016362</td>\n",
       "      <td>0.003807</td>\n",
       "      <td>-0.011851</td>\n",
       "      <td>-0.007811</td>\n",
       "    </tr>\n",
       "    <tr>\n",
       "      <th>relationship</th>\n",
       "      <td>-0.263769</td>\n",
       "      <td>-0.058779</td>\n",
       "      <td>0.007298</td>\n",
       "      <td>-0.011257</td>\n",
       "      <td>-0.089787</td>\n",
       "      <td>0.185566</td>\n",
       "      <td>-0.041468</td>\n",
       "      <td>1.000000</td>\n",
       "      <td>-0.117875</td>\n",
       "      <td>-0.581133</td>\n",
       "      <td>-0.059484</td>\n",
       "      <td>-0.058955</td>\n",
       "      <td>-0.242478</td>\n",
       "      <td>-0.011344</td>\n",
       "    </tr>\n",
       "    <tr>\n",
       "      <th>race</th>\n",
       "      <td>0.026341</td>\n",
       "      <td>0.047251</td>\n",
       "      <td>-0.018526</td>\n",
       "      <td>0.013312</td>\n",
       "      <td>0.025143</td>\n",
       "      <td>-0.071807</td>\n",
       "      <td>-0.006729</td>\n",
       "      <td>-0.117875</td>\n",
       "      <td>1.000000</td>\n",
       "      <td>0.084667</td>\n",
       "      <td>0.007921</td>\n",
       "      <td>0.016570</td>\n",
       "      <td>0.041312</td>\n",
       "      <td>0.113471</td>\n",
       "    </tr>\n",
       "    <tr>\n",
       "      <th>sex</th>\n",
       "      <td>0.086292</td>\n",
       "      <td>0.068354</td>\n",
       "      <td>0.028119</td>\n",
       "      <td>-0.025716</td>\n",
       "      <td>0.012263</td>\n",
       "      <td>-0.126718</td>\n",
       "      <td>0.052070</td>\n",
       "      <td>-0.581133</td>\n",
       "      <td>0.084667</td>\n",
       "      <td>1.000000</td>\n",
       "      <td>0.050035</td>\n",
       "      <td>0.041763</td>\n",
       "      <td>0.226228</td>\n",
       "      <td>0.007771</td>\n",
       "    </tr>\n",
       "    <tr>\n",
       "      <th>capital.gain</th>\n",
       "      <td>0.079887</td>\n",
       "      <td>0.033576</td>\n",
       "      <td>-0.003100</td>\n",
       "      <td>0.028458</td>\n",
       "      <td>0.117632</td>\n",
       "      <td>-0.044431</td>\n",
       "      <td>0.016362</td>\n",
       "      <td>-0.059484</td>\n",
       "      <td>0.007921</td>\n",
       "      <td>0.050035</td>\n",
       "      <td>1.000000</td>\n",
       "      <td>-0.031821</td>\n",
       "      <td>0.069363</td>\n",
       "      <td>0.007114</td>\n",
       "    </tr>\n",
       "    <tr>\n",
       "      <th>capital.loss</th>\n",
       "      <td>0.063467</td>\n",
       "      <td>0.004701</td>\n",
       "      <td>-0.008912</td>\n",
       "      <td>0.027775</td>\n",
       "      <td>0.086386</td>\n",
       "      <td>-0.042476</td>\n",
       "      <td>0.003807</td>\n",
       "      <td>-0.058955</td>\n",
       "      <td>0.016570</td>\n",
       "      <td>0.041763</td>\n",
       "      <td>-0.031821</td>\n",
       "      <td>1.000000</td>\n",
       "      <td>0.060205</td>\n",
       "      <td>0.009708</td>\n",
       "    </tr>\n",
       "    <tr>\n",
       "      <th>hours.per.week</th>\n",
       "      <td>0.063099</td>\n",
       "      <td>0.035298</td>\n",
       "      <td>-0.017463</td>\n",
       "      <td>0.058936</td>\n",
       "      <td>0.150131</td>\n",
       "      <td>-0.191886</td>\n",
       "      <td>-0.011851</td>\n",
       "      <td>-0.242478</td>\n",
       "      <td>0.041312</td>\n",
       "      <td>0.226228</td>\n",
       "      <td>0.069363</td>\n",
       "      <td>0.060205</td>\n",
       "      <td>1.000000</td>\n",
       "      <td>0.003672</td>\n",
       "    </tr>\n",
       "    <tr>\n",
       "      <th>native.country</th>\n",
       "      <td>-0.004224</td>\n",
       "      <td>-0.006550</td>\n",
       "      <td>-0.060801</td>\n",
       "      <td>0.082555</td>\n",
       "      <td>0.092267</td>\n",
       "      <td>-0.017876</td>\n",
       "      <td>-0.007811</td>\n",
       "      <td>-0.011344</td>\n",
       "      <td>0.113471</td>\n",
       "      <td>0.007771</td>\n",
       "      <td>0.007114</td>\n",
       "      <td>0.009708</td>\n",
       "      <td>0.003672</td>\n",
       "      <td>1.000000</td>\n",
       "    </tr>\n",
       "  </tbody>\n",
       "</table>\n",
       "</div>"
      ],
      "text/plain": [
       "                     age  workclass    fnlwgt  education  education.num  \\\n",
       "age             1.000000   0.046052 -0.079351  -0.009073       0.035522   \n",
       "workclass       0.046052   1.000000 -0.023634   0.008791       0.009099   \n",
       "fnlwgt         -0.079351  -0.023634  1.000000  -0.029658      -0.041205   \n",
       "education      -0.009073   0.008791 -0.029658   1.000000       0.360780   \n",
       "education.num   0.035522   0.009099 -0.041205   0.360780       1.000000   \n",
       "marital.status -0.260704  -0.018398  0.029146  -0.039483      -0.071671   \n",
       "occupation     -0.002822   0.008666 -0.000027  -0.036256       0.073993   \n",
       "relationship   -0.263769  -0.058779  0.007298  -0.011257      -0.089787   \n",
       "race            0.026341   0.047251 -0.018526   0.013312       0.025143   \n",
       "sex             0.086292   0.068354  0.028119  -0.025716       0.012263   \n",
       "capital.gain    0.079887   0.033576 -0.003100   0.028458       0.117632   \n",
       "capital.loss    0.063467   0.004701 -0.008912   0.027775       0.086386   \n",
       "hours.per.week  0.063099   0.035298 -0.017463   0.058936       0.150131   \n",
       "native.country -0.004224  -0.006550 -0.060801   0.082555       0.092267   \n",
       "\n",
       "                marital.status  occupation  relationship      race       sex  \\\n",
       "age                  -0.260704   -0.002822     -0.263769  0.026341  0.086292   \n",
       "workclass            -0.018398    0.008666     -0.058779  0.047251  0.068354   \n",
       "fnlwgt                0.029146   -0.000027      0.007298 -0.018526  0.028119   \n",
       "education            -0.039483   -0.036256     -0.011257  0.013312 -0.025716   \n",
       "education.num        -0.071671    0.073993     -0.089787  0.025143  0.012263   \n",
       "marital.status        1.000000    0.034025      0.185566 -0.071807 -0.126718   \n",
       "occupation            0.034025    1.000000     -0.041468 -0.006729  0.052070   \n",
       "relationship          0.185566   -0.041468      1.000000 -0.117875 -0.581133   \n",
       "race                 -0.071807   -0.006729     -0.117875  1.000000  0.084667   \n",
       "sex                  -0.126718    0.052070     -0.581133  0.084667  1.000000   \n",
       "capital.gain         -0.044431    0.016362     -0.059484  0.007921  0.050035   \n",
       "capital.loss         -0.042476    0.003807     -0.058955  0.016570  0.041763   \n",
       "hours.per.week       -0.191886   -0.011851     -0.242478  0.041312  0.226228   \n",
       "native.country       -0.017876   -0.007811     -0.011344  0.113471  0.007771   \n",
       "\n",
       "                capital.gain  capital.loss  hours.per.week  native.country  \n",
       "age                 0.079887      0.063467        0.063099       -0.004224  \n",
       "workclass           0.033576      0.004701        0.035298       -0.006550  \n",
       "fnlwgt             -0.003100     -0.008912       -0.017463       -0.060801  \n",
       "education           0.028458      0.027775        0.058936        0.082555  \n",
       "education.num       0.117632      0.086386        0.150131        0.092267  \n",
       "marital.status     -0.044431     -0.042476       -0.191886       -0.017876  \n",
       "occupation          0.016362      0.003807       -0.011851       -0.007811  \n",
       "relationship       -0.059484     -0.058955       -0.242478       -0.011344  \n",
       "race                0.007921      0.016570        0.041312        0.113471  \n",
       "sex                 0.050035      0.041763        0.226228        0.007771  \n",
       "capital.gain        1.000000     -0.031821        0.069363        0.007114  \n",
       "capital.loss       -0.031821      1.000000        0.060205        0.009708  \n",
       "hours.per.week      0.069363      0.060205        1.000000        0.003672  \n",
       "native.country      0.007114      0.009708        0.003672        1.000000  "
      ]
     },
     "execution_count": 20,
     "metadata": {},
     "output_type": "execute_result"
    }
   ],
   "source": [
    "x_train.corr()"
   ]
  },
  {
   "cell_type": "code",
   "execution_count": 21,
   "metadata": {},
   "outputs": [],
   "source": [
    "from sklearn.linear_model import LogisticRegression"
   ]
  },
  {
   "cell_type": "code",
   "execution_count": 22,
   "metadata": {},
   "outputs": [],
   "source": [
    "regressor = LogisticRegression()"
   ]
  },
  {
   "cell_type": "code",
   "execution_count": 23,
   "metadata": {},
   "outputs": [
    {
     "data": {
      "text/plain": [
       "0.8242365742365743"
      ]
     },
     "execution_count": 23,
     "metadata": {},
     "output_type": "execute_result"
    }
   ],
   "source": [
    "regressor.fit(x_train, y_train)\n",
    "predict = regressor.predict(x_train)\n",
    "regressor.score(x_train, y_train)"
   ]
  },
  {
   "cell_type": "code",
   "execution_count": 24,
   "metadata": {},
   "outputs": [
    {
     "data": {
      "text/plain": [
       "<matplotlib.axes._subplots.AxesSubplot at 0x278644c7548>"
      ]
     },
     "execution_count": 24,
     "metadata": {},
     "output_type": "execute_result"
    },
    {
     "data": {
      "image/png": "[encoded data removed]",
      "text/plain": [
       "<Figure size 432x288 with 2 Axes>"
      ]
     },
     "metadata": {
      "needs_background": "light"
     },
     "output_type": "display_data"
    }
   ],
   "source": [
    "from sklearn.metrics import confusion_matrix\n",
    "sns.heatmap(confusion_matrix(y_train, predict), annot=True, fmt='d')"
   ]
  },
  {
   "cell_type": "code",
   "execution_count": 25,
   "metadata": {},
   "outputs": [
    {
     "data": {
      "text/plain": [
       "0.8252635889036749"
      ]
     },
     "execution_count": 25,
     "metadata": {},
     "output_type": "execute_result"
    }
   ],
   "source": [
    "\n",
    "predict = regressor.predict(x_test)\n",
    "regressor.score(x_test, y_test)"
   ]
  },
  {
   "cell_type": "code",
   "execution_count": 26,
   "metadata": {},
   "outputs": [
    {
     "data": {
      "text/plain": [
       "<matplotlib.axes._subplots.AxesSubplot at 0x278649b3a48>"
      ]
     },
     "execution_count": 26,
     "metadata": {},
     "output_type": "execute_result"
    },
    {
     "data": {
      "image/png": "[encoded data removed]",
      "text/plain": [
       "<Figure size 432x288 with 2 Axes>"
      ]
     },
     "metadata": {
      "needs_background": "light"
     },
     "output_type": "display_data"
    }
   ],
   "source": [
    "sns.heatmap(confusion_matrix(y_test, predict), annot=True, fmt='d')"
   ]
  },
  {
   "cell_type": "markdown",
   "metadata": {},
   "source": [
    "# trying Other Models"
   ]
  },
  {
   "cell_type": "code",
   "execution_count": 27,
   "metadata": {},
   "outputs": [],
   "source": [
    "from sklearn.naive_bayes import GaussianNB\n",
    "from sklearn.svm import SVC\n",
    "from sklearn.ensemble import RandomForestClassifier\n",
    "from sklearn.tree import DecisionTreeClassifier"
   ]
  },
  {
   "cell_type": "code",
   "execution_count": 28,
   "metadata": {},
   "outputs": [],
   "source": [
    "naive = GaussianNB()\n",
    "support_vector = SVC()\n",
    "tree = DecisionTreeClassifier()\n",
    "forest = RandomForestClassifier(criterion='entropy')"
   ]
  },
  {
   "cell_type": "code",
   "execution_count": 29,
   "metadata": {},
   "outputs": [
    {
     "data": {
      "text/plain": [
       "0.806905931905932"
      ]
     },
     "execution_count": 29,
     "metadata": {},
     "output_type": "execute_result"
    }
   ],
   "source": [
    "naive.fit(x_train, y_train)\n",
    "naive.score(x_train, y_train)"
   ]
  },
  {
   "cell_type": "code",
   "execution_count": 30,
   "metadata": {},
   "outputs": [
    {
     "data": {
      "text/plain": [
       "0.8588978588978589"
      ]
     },
     "execution_count": 30,
     "metadata": {},
     "output_type": "execute_result"
    }
   ],
   "source": [
    "support_vector.fit(x_train, y_train)\n",
    "support_vector.score(x_train, y_train)"
   ]
  },
  {
   "cell_type": "code",
   "execution_count": 31,
   "metadata": {},
   "outputs": [
    {
     "data": {
      "text/plain": [
       "0.8459412427065206"
      ]
     },
     "execution_count": 31,
     "metadata": {},
     "output_type": "execute_result"
    }
   ],
   "source": [
    "support_vector.score(x_test, y_test)"
   ]
  },
  {
   "cell_type": "code",
   "execution_count": 32,
   "metadata": {},
   "outputs": [
    {
     "data": {
      "text/plain": [
       "1.0"
      ]
     },
     "execution_count": 32,
     "metadata": {},
     "output_type": "execute_result"
    }
   ],
   "source": [
    "tree.fit(x_train, y_train)\n",
    "tree.score(x_train, y_train)"
   ]
  },
  {
   "cell_type": "code",
   "execution_count": 33,
   "metadata": {},
   "outputs": [
    {
     "data": {
      "text/plain": [
       "0.8100112601085065"
      ]
     },
     "execution_count": 33,
     "metadata": {},
     "output_type": "execute_result"
    }
   ],
   "source": [
    "tree.score(x_test, y_test)"
   ]
  },
  {
   "cell_type": "code",
   "execution_count": 34,
   "metadata": {},
   "outputs": [
    {
     "data": {
      "text/plain": [
       "0.999956124956125"
      ]
     },
     "execution_count": 34,
     "metadata": {},
     "output_type": "execute_result"
    }
   ],
   "source": [
    "forest.fit(x_train, y_train)\n",
    "forest.score(x_train, y_train)"
   ]
  },
  {
   "cell_type": "code",
   "execution_count": 35,
   "metadata": {},
   "outputs": [
    {
     "data": {
      "text/plain": [
       "85.29020370559934"
      ]
     },
     "execution_count": 35,
     "metadata": {},
     "output_type": "execute_result"
    }
   ],
   "source": [
    "forest.score(x_test, y_test) * 100"
   ]
  },
  {
   "cell_type": "code",
   "execution_count": 36,
   "metadata": {},
   "outputs": [],
   "source": [
    "#  Lets try Support Vector & Forest"
   ]
  },
  {
   "cell_type": "code",
   "execution_count": 38,
   "metadata": {},
   "outputs": [],
   "source": [
    "new_x_train = x_train.drop(['native.country', 'hours.per.week'], 1)\n",
    "new_x_test = x_test.drop(['native.country', 'hours.per.week'], 1)"
   ]
  },
  {
   "cell_type": "code",
   "execution_count": 39,
   "metadata": {},
   "outputs": [
    {
     "data": {
      "text/plain": [
       "0.8525798525798526"
      ]
     },
     "execution_count": 39,
     "metadata": {},
     "output_type": "execute_result"
    }
   ],
   "source": [
    "new_svc = SVC().fit(new_x_train, y_train)\n",
    "new_svc.score(new_x_train, y_train)"
   ]
  },
  {
   "cell_type": "code",
   "execution_count": 40,
   "metadata": {},
   "outputs": [
    {
     "data": {
      "text/plain": [
       "0.8444057733647251"
      ]
     },
     "execution_count": 40,
     "metadata": {},
     "output_type": "execute_result"
    }
   ],
   "source": [
    "new_svc.score(new_x_test, y_test)"
   ]
  },
  {
   "cell_type": "code",
   "execution_count": 42,
   "metadata": {},
   "outputs": [],
   "source": [
    "new_forest = RandomForestClassifier(criterion='entropy').fit(new_x_train, y_train)"
   ]
  },
  {
   "cell_type": "code",
   "execution_count": 44,
   "metadata": {},
   "outputs": [
    {
     "data": {
      "text/plain": [
       "0.8491145460128979"
      ]
     },
     "execution_count": 44,
     "metadata": {},
     "output_type": "execute_result"
    }
   ],
   "source": [
    "new_forest.score(new_x_test, y_test)"
   ]
  },
  {
   "cell_type": "markdown",
   "metadata": {},
   "source": [
    "# Random Forest Classifier 85 % Score"
   ]
  },
  {
   "cell_type": "code",
   "execution_count": 45,
   "metadata": {},
   "outputs": [
    {
     "data": {
      "text/plain": [
       "'\\nKernel Author: Habab\\nDataset: https://www.kaggle.com/uciml/adult-census-income\\n\\n'"
      ]
     },
     "execution_count": 45,
     "metadata": {},
     "output_type": "execute_result"
    }
   ],
   "source": [
    "\"\"\"\n",
    "Kernel Author: Habab\n",
    "Dataset: https://www.kaggle.com/uciml/adult-census-income\n",
    "\n",
    "\"\"\""
   ]
  },
  {
   "cell_type": "code",
   "execution_count": null,
   "metadata": {},
   "outputs": [],
   "source": []
  }
 ],
 "metadata": {
  "kernelspec": {
   "display_name": "Python 3",
   "language": "python",
   "name": "python3"
  },
  "language_info": {
   "codemirror_mode": {
    "name": "ipython",
    "version": 3
   },
   "file_extension": ".py",
   "mimetype": "text/x-python",
   "name": "python",
   "nbconvert_exporter": "python",
   "pygments_lexer": "ipython3",
   "version": "3.7.6"
  }
 },
 "nbformat": 4,
 "nbformat_minor": 4
}
